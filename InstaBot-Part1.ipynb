{
 "cells": [
  {
   "cell_type": "markdown",
   "metadata": {},
   "source": [
    "Your friend has opened a new Food Blogging handle on Instagram and wants to get famous. He wants to follow a lot of people so that he can get noticed quickly but it is a tedious task so he asks you to help him. As you have just learned automation using Selenium, you decided to help him by creating an Instagram Bot.\n",
    "You need to create different functions for each task."
   ]
  },
  {
   "cell_type": "markdown",
   "metadata": {},
   "source": [
    "Note : Replace your username and password by ‘SAMPLE USERNAME’ and ‘SAMPLE PASSWORD’ where you have used them in your code for logging in to instagram"
   ]
  },
  {
   "cell_type": "markdown",
   "metadata": {},
   "source": [
    "# Imports needed"
   ]
  },
  {
   "cell_type": "code",
   "execution_count": 1,
   "metadata": {},
   "outputs": [],
   "source": [
    "from selenium import webdriver\n",
    "from selenium.webdriver.support.ui import WebDriverWait\n",
    "from selenium.webdriver.support import expected_conditions as EC\n",
    "from selenium.webdriver.common.by import By\n",
    "from bs4 import BeautifulSoup\n",
    "from selenium.webdriver.common.keys import Keys  # import KEYS \n",
    "import time\n"
   ]
  },
  {
   "cell_type": "markdown",
   "metadata": {},
   "source": [
    "## Username and password"
   ]
  },
  {
   "cell_type": "code",
   "execution_count": 2,
   "metadata": {},
   "outputs": [],
   "source": [
    "# use your own username and password here\n",
    "username = 'SAMPLE USERNAME'\n",
    "password = 'SAMPLE PASSWORD'"
   ]
  },
  {
   "cell_type": "markdown",
   "metadata": {},
   "source": [
    "## Start Webdriver session"
   ]
  },
  {
   "cell_type": "code",
   "execution_count": 4,
   "metadata": {},
   "outputs": [
    {
     "data": {
      "text/plain": [
       "<selenium.webdriver.chrome.webdriver.WebDriver (session=\"52e0e2e85ea117c88174eca6a77cfa0c\")>"
      ]
     },
     "execution_count": 4,
     "metadata": {},
     "output_type": "execute_result"
    }
   ],
   "source": [
    "driver = webdriver.Chrome(executable_path = 'C:/Users/mehak/Downloads/chromedriver')\n",
    "driver"
   ]
  },
  {
   "cell_type": "markdown",
   "metadata": {},
   "source": [
    "## Que 1. Login to your Instagram Handle\n",
    "### Submit with sample username and password"
   ]
  },
  {
   "cell_type": "code",
   "execution_count": 8,
   "metadata": {},
   "outputs": [],
   "source": [
    "def login_instagram(username, password):\n",
    "    driver.get('https://www.instagram.com/accounts/login/?hl=en') #open login page of instagram\n",
    "\n",
    "    wait = WebDriverWait(driver,20) # 20 is the upper limit\n",
    "    ''' \n",
    "        Wait until page is loaded otherwise, exception occured\n",
    "    '''\n",
    "    name = wait.until(EC.presence_of_element_located( (By.NAME, 'username') ))\n",
    "    name.send_keys(username) #see usename in top\n",
    "\n",
    "    pass_word = driver.find_element_by_name('password')\n",
    "    pass_word.send_keys(password)\n",
    "\n",
    "    # Login \n",
    "    driver.find_element_by_class_name('sqdOP.L3NKy.y3zKF').click()\n",
    "\n",
    "    '''\n",
    "        Both login using facebook btn and not now button has same class. But login using facebook is on previous page , so \n",
    "        we need to wait for some time till next page is not loaded. We can't use explicit waiting bcz then it grabs login using \n",
    "        facebook button\n",
    "    '''\n",
    "    time.sleep(5) # 5 seconds wait\n",
    "    try:\n",
    "        # Don't save information for now. Sometimes ask and sometimes not. So put it in try block\n",
    "        not_now = wait.until(EC.presence_of_element_located( (By.CLASS_NAME, 'sqdOP.yWX7d.y3zKF') ))\n",
    "        not_now.click()     \n",
    "    except:\n",
    "        # It maeans save info popup don't come. Some other popup come\n",
    "        driver.get('https://instagram.com')\n",
    "\n",
    "    # Turn on notification or not\n",
    "    try:\n",
    "        not_now_turn = wait.until(EC.presence_of_element_located( (By.CLASS_NAME, 'aOOlW.HoLwm') ))\n",
    "        not_now_turn.click()\n",
    "    except:\n",
    "        driver.get('https://instagram.com')\n",
    "    \n",
    "\n",
    "# calling function\n",
    "login_instagram(username, password) # username and passwrd defined above in file"
   ]
  },
  {
   "cell_type": "markdown",
   "metadata": {},
   "source": [
    "## Que 2. Type for “food” in search bar and print all the names of the Instagram Handles that are displayed in list after typing “food”\n",
    "### Note : Make sure to avoid printing hashtags"
   ]
  },
  {
   "cell_type": "code",
   "execution_count": 11,
   "metadata": {},
   "outputs": [
    {
     "name": "stdout",
     "output_type": "stream",
     "text": [
      "foodinsider\n",
      "foodgod\n",
      "foodiesince96\n",
      "foodieveggie\n",
      "foodtalkindia\n",
      "buzzfeedfood\n",
      "food\n",
      "food_belly11\n",
      "foodiee__gabbar\n",
      "dilsefoodie\n",
      "foodie_incarnate\n",
      "foodbossindia\n",
      "food_lunatic\n",
      "foodmaniacindia\n",
      "foodbabyny\n",
      "foodfoodfoodfood\n",
      "food_gambler\n",
      "foodyypreneur\n",
      "foodiekanyatales\n",
      "foodgramdelhi\n",
      "foodelhi\n",
      "foodie_amita\n",
      "bestfoodofindia\n",
      "food_junc\n",
      "foodnetwork\n",
      "food_and_makeup_lover\n",
      "foodiearuna\n",
      "foodisnirvana\n",
      "foodie_rushil\n",
      "foodmapdelhi\n",
      "foodkars\n",
      "food.me.more\n",
      "foodzaara\n",
      "foodiesoul_\n",
      "food_travel_etc\n",
      "foodiebliss09\n",
      "foodiliciousmoments\n",
      "foodbloggersingh\n",
      "fooddiariesss\n",
      "foodandmorewithhansie\n",
      "foodholic.india\n",
      "fityetfoodie\n",
      "iamdatingfood\n",
      "foodhallindia\n",
      "food_adore_tour\n",
      "delhifoodie\n",
      "myfoodproject\n",
      "foodieforeverandever23\n",
      "foodconnectindia\n",
      "travelfoodinsta\n",
      "dillifoodies\n",
      "food_ft_love\n",
      "foodiesdelhite\n",
      "the_foodie_bae\n"
     ]
    }
   ],
   "source": [
    "def search_and_display(keyword): # keyword is string which we want to search\n",
    "    search_box = driver.find_element_by_xpath('//input[contains(@class,\"XTCLo\")]')\n",
    "    search_box.clear() # So that if some text is present already, remove that\n",
    "    search_box.send_keys(keyword)\n",
    "\n",
    "    # List of all handles appeared afer searching keyword\n",
    "    # wait until list appeared\n",
    "    wait = WebDriverWait(driver,20) #Imports done previously. no need to do again\n",
    "\n",
    "    keyword_list = wait.until(EC.presence_of_all_elements_located( (By.CLASS_NAME,'Ap253') ))\n",
    "    for item in keyword_list:\n",
    "        item_str = item.get_attribute('innerHTML').strip()\n",
    "        if item_str[0]=='#':\n",
    "            pass # Bcz we don't have to print hashtags\n",
    "        else:\n",
    "            print(item_str)\n",
    "            \n",
    "# calling function\n",
    "search_and_display('food') # keyword to be search is food"
   ]
  },
  {
   "cell_type": "markdown",
   "metadata": {},
   "source": [
    "## Que 3. Searching and Opening a profile\n",
    "### Open profile of “So Delhi” "
   ]
  },
  {
   "cell_type": "code",
   "execution_count": 9,
   "metadata": {},
   "outputs": [],
   "source": [
    "def open_handle(profilename):\n",
    "    driver.get('https://www.instagram.com/')\n",
    "    wait = WebDriverWait(driver,15)\n",
    "    search_box = wait.until(EC.presence_of_element_located( (By.XPATH,'//input[contains(@class,\"XTCLo\")]') ))\n",
    "    search_box.clear() # So that if some text is present already, remove that\n",
    "    search_box.send_keys(profilename)\n",
    "\n",
    "    # wait until list appeared\n",
    "    wait = WebDriverWait(driver,20) #Imports done previously. no need to do again\n",
    "\n",
    "    profile = wait.until(EC.presence_of_element_located( (By.CLASS_NAME,'yCE8d') )) # First handle is of required profilename\n",
    "    profile.click()\n",
    "    \n",
    "# calling open_handle\n",
    "open_handle('So Delhi')"
   ]
  },
  {
   "cell_type": "markdown",
   "metadata": {},
   "source": [
    "## Que 4. Follow/Unfollow given handle -"
   ]
  },
  {
   "cell_type": "markdown",
   "metadata": {},
   "source": [
    "### Open the Instagram Handle of “So Delhi”"
   ]
  },
  {
   "cell_type": "code",
   "execution_count": 50,
   "metadata": {},
   "outputs": [],
   "source": [
    "# we use fuction created above to open So Delhi\n",
    "open_handle('So Delhi')"
   ]
  },
  {
   "cell_type": "markdown",
   "metadata": {},
   "source": [
    "### Start following it. Print a message if you are already following"
   ]
  },
  {
   "cell_type": "code",
   "execution_count": 59,
   "metadata": {},
   "outputs": [],
   "source": [
    "def follow_handle(handle_name):\n",
    "    # Open handle\n",
    "    open_handle('So Delhi')\n",
    "    \n",
    "    # wait until follow btn is loaded on page after handle\n",
    "    time.sleep(5)\n",
    "    \n",
    "    follow_btn = driver.find_element_by_tag_name('button')\n",
    "    btn_str = follow_btn.get_attribute('innerHTML').strip()\n",
    "\n",
    "    if btn_str=='Follow': # It means So handle is not followed already, So follow it now\n",
    "        driver.execute_script('arguments[0].click();',follow_btn)\n",
    "    else: # Means handle is already followed. so print message\n",
    "        print(handle_name + \" is Already followed\")\n",
    "        \n",
    "# call function to follow handle\n",
    "follow_handle('So Delhi')"
   ]
  },
  {
   "cell_type": "markdown",
   "metadata": {},
   "source": [
    "### After following, unfollow the instagram handle. Print a message if you have already unfollowed."
   ]
  },
  {
   "cell_type": "code",
   "execution_count": 60,
   "metadata": {},
   "outputs": [],
   "source": [
    "def unfollow_handle(handle_name):\n",
    "    # Open handle\n",
    "    open_handle(handle_name)\n",
    "    \n",
    "    # wait until follow btn is loaded on page after handle\n",
    "    time.sleep(5)\n",
    "    \n",
    "    all_btns = driver.find_elements_by_tag_name('button')\n",
    "    # Check string of button at index 0.\n",
    "    btn_str = all_btns[0].get_attribute('innerHTML').strip()\n",
    "\n",
    "    if btn_str=='Follow': # It means handle is already unfollowed, So print message\n",
    "        print(\"Already unfollowed \"+ handle_name)\n",
    "    else: # We first need to click on 2nd button then click on unfollow button\n",
    "        all_btns[1].click()\n",
    "        wait = WebDriverWait(driver,15)\n",
    "        # Now new view opened in which only 2 buttons present and 1st one is unfollow btn. So click it\n",
    "        unfollow_btn = wait.until(EC.presence_of_element_located( (By.XPATH, '//button[contains(@class,\"aOOlW\")]') ))\n",
    "        unfollow_btn.click() # click unfollow btn\n",
    "        \n",
    "# Unfollow So Delhi\n",
    "unfollow_handle('So Delhi')"
   ]
  },
  {
   "cell_type": "markdown",
   "metadata": {},
   "source": [
    "## Que 5. Like/Unlike posts"
   ]
  },
  {
   "cell_type": "markdown",
   "metadata": {},
   "source": [
    "### Liking the top 30 posts of the ‘dilsefoodie'. Print message if you have already liked it."
   ]
  },
  {
   "cell_type": "markdown",
   "metadata": {},
   "source": [
    "Alternative Way to open dilsefoodie\n",
    "\n",
    "search_box = driver.find_element_by_xpath('//input[contains(@class,\"XTCLo\")]')\n",
    "search_box.clear() # So that if some text is present already, remove that\n",
    "search_box.send_keys('dilsefoodie')\n",
    "List of all handles appeared afer searching food\n",
    "wait until list appeared\n",
    "wait = WebDriverWait(driver,20) #Imports done previously. no need to do again\n",
    "dilsefoodie = wait.until(EC.presence_of_element_located( (By.CLASS_NAME,'yCE8d') )) # First handle is of dilsefoodie\n",
    "dilsefoodie.click()"
   ]
  },
  {
   "cell_type": "code",
   "execution_count": 61,
   "metadata": {},
   "outputs": [],
   "source": [
    "\n",
    "def like_dilsefoodie_posts():\n",
    "    # Open dilsefoodie insta handle\n",
    "    driver.get('https://www.instagram.com/dilsefoodie/')\n",
    "\n",
    "    # need to wait for some time to load page before calculating scroll height\n",
    "    #time.sleep(5)\n",
    "\n",
    "    # We need to scroll page to get first 30 posts\n",
    "    currentHeight = driver.execute_script('return document.body.scrollHeight;')\n",
    "    while True:\n",
    "        driver.execute_script('window.scrollTo(0,arguments[0]);' , currentHeight)\n",
    "        time.sleep(3) # wait for 3 seconds to load new posts\n",
    "        posts = driver.find_elements_by_xpath('//div[@class = \"_9AhH0\"]') # all posts on page\n",
    "        if len(posts)>=30:\n",
    "            break\n",
    "        currentHeight = driver.execute_script('return document.body.scrollHeight;')\n",
    "\n",
    "    wait = WebDriverWait(driver,20)\n",
    "    for i in range(30):\n",
    "        posts[i].click()\n",
    "        like_btn = wait.until(EC.presence_of_element_located( (By.XPATH, '//section[contains(@class , \"ltpMr\")]/span[1]/button') ))\n",
    "\n",
    "        # Check if post is already liked or not\n",
    "        data = BeautifulSoup(driver.page_source,'lxml')\n",
    "        section = data.find(class_='ltpMr Slqrh') # section include like, comments, and share\n",
    "        btns = section.find_all('button') # like, comment and share bttons. 1st one is for like and unlike\n",
    "        islike = btns[0].svg.get(\"aria-label\").strip()\n",
    "        if islike==\"Like\": # It means it is not liked yet so click like btn\n",
    "            like_btn.click()\n",
    "        else:\n",
    "            print(\"Post \"+str(i+1)+ \" already liked!\")\n",
    "\n",
    "        close_post_btn = driver.find_element_by_xpath('//div[contains(@class,\"_2dDPU\")]/div[3]/button')\n",
    "        close_post_btn.click() #close current post\n",
    "        time.sleep(1) #sleep for 2 seconds other directly clicking next post can raise exception\n",
    "        \n",
    "        \n",
    "# call function\n",
    "like_dilsefoodie_posts()"
   ]
  },
  {
   "cell_type": "markdown",
   "metadata": {},
   "source": [
    "### Unliking the top 30 posts of the ‘dilsefoodie’. Print message if you have already unliked it."
   ]
  },
  {
   "cell_type": "code",
   "execution_count": 62,
   "metadata": {},
   "outputs": [
    {
     "name": "stdout",
     "output_type": "stream",
     "text": [
      "Post 1 already Unliked\n"
     ]
    }
   ],
   "source": [
    "def unlike_dilsefoodie_posts():\n",
    "    # Open dilsefoodie insta handle\n",
    "    driver.get('https://www.instagram.com/dilsefoodie/')\n",
    "\n",
    "    # need to wait for some time to load page before calculating scroll height\n",
    "    #time.sleep(10)\n",
    "\n",
    "    # We need to scroll page to get first 30 posts\n",
    "    currentHeight = driver.execute_script('return document.body.scrollHeight;')\n",
    "    while True:\n",
    "        driver.execute_script('window.scrollTo(0,arguments[0]);' , currentHeight)\n",
    "        time.sleep(3) # wait for 3 seconds to load new posts\n",
    "        posts = driver.find_elements_by_xpath('//div[@class = \"_9AhH0\"]') # all posts on page\n",
    "        if len(posts)>=30:\n",
    "            break\n",
    "        currentHeight = driver.execute_script('return document.body.scrollHeight;')\n",
    "\n",
    "    wait = WebDriverWait(driver,20)\n",
    "    for i in range(30):\n",
    "        posts[i].click()\n",
    "        like_btn = wait.until(EC.presence_of_element_located( (By.XPATH, '//section[contains(@class , \"ltpMr\")]/span[1]/button') ))\n",
    "\n",
    "        # Check if post is already Unliked or not\n",
    "        data = BeautifulSoup(driver.page_source,'lxml')\n",
    "        section = data.find(class_='ltpMr Slqrh') # section include like, comments, and share\n",
    "        btns = section.find_all('button') # like, comment and share bttons. 1st one is for like and unlike\n",
    "        isUnlike = btns[0].svg.get(\"aria-label\").strip()\n",
    "        if isUnlike==\"Unlike\": # It means it is liked now. So click to unlike it\n",
    "            like_btn.click()\n",
    "        else:\n",
    "            print(\"Post \"+str(i+1)+ \" already Unliked\")\n",
    "\n",
    "        close_post_btn = driver.find_element_by_xpath('//div[contains(@class,\"_2dDPU\")]/div[3]/button')\n",
    "        close_post_btn.click() #close current post\n",
    "        time.sleep(1) #sleep for 1 seconds other directly clicking next post can raise exception\n",
    "\n",
    "# calling function\n",
    "unlike_dilsefoodie_posts()"
   ]
  },
  {
   "cell_type": "markdown",
   "metadata": {},
   "source": [
    "## Que.6 Extract list of followers"
   ]
  },
  {
   "cell_type": "markdown",
   "metadata": {},
   "source": [
    "### Extract the usernames of the first 500 followers of ‘foodtalkindia’ and ‘sodelhi’."
   ]
  },
  {
   "cell_type": "markdown",
   "metadata": {},
   "source": [
    "### foodtalkindia followers"
   ]
  },
  {
   "cell_type": "code",
   "execution_count": 9,
   "metadata": {},
   "outputs": [],
   "source": [
    "def get_followers_username(handle_name):\n",
    "    driver.get('https://instagram.com/'+handle_name)\n",
    "\n",
    "    # wait till page is loaded\n",
    "    wait = WebDriverWait(driver,20) #all imports done on top . No need to import again\n",
    "    followers = wait.until(EC.presence_of_element_located( (By.PARTIAL_LINK_TEXT, 'followers') ))\n",
    "    driver.execute_script('arguments[0].click()',followers)        \n",
    "\n",
    "    time.sleep(2) # wait to get list of followers displayed\n",
    "\n",
    "    while True:\n",
    "        # locate any element on pop_up page\n",
    "        obj_created_for_pop_up_scroll = driver.find_element_by_xpath('//a[contains(@class,\"FPmhX notranslate\")]')\n",
    "        followers_list = driver.find_elements_by_class_name('wFPL8')\n",
    "        if len(followers_list) >= 500:\n",
    "            break\n",
    "        obj_created_for_pop_up_scroll.send_keys(Keys.END)\n",
    "        time.sleep(2) # wait to load new followers\n",
    "\n",
    "    for i in range(500):\n",
    "        print(str(i+1)+\") \",followers_list[i].get_attribute('innerHTML'))\n",
    "        \n",
    "# Get usernames of followers of foodtalkindia\n",
    "get_followers_username('foodtalkindia')"
   ]
  },
  {
   "cell_type": "markdown",
   "metadata": {},
   "source": [
    "### sodelhi followers"
   ]
  },
  {
   "cell_type": "code",
   "execution_count": 10,
   "metadata": {},
   "outputs": [],
   "source": [
    "# We use above function to get followers of sodelhi\n",
    "get_followers_username('sodelhi')"
   ]
  },
  {
   "cell_type": "markdown",
   "metadata": {},
   "source": [
    "## Que 7. Check the story of ‘coding.ninjas’. Consider the following Scenarios and print error messages accordingly -\n",
    "### If You have already seen the story.\n",
    "### Or The user has no story.\n",
    "### Or View the story if not yet seen."
   ]
  },
  {
   "cell_type": "code",
   "execution_count": 15,
   "metadata": {},
   "outputs": [
    {
     "name": "stdout",
     "output_type": "stream",
     "text": [
      "Already seen\n"
     ]
    }
   ],
   "source": [
    "wait = WebDriverWait(driver,10)\n",
    "def check_story(handle_name):\n",
    "    open_handle(handle_name)\n",
    "    time.sleep(2)\n",
    "    try:\n",
    "        story = wait.until(EC.presence_of_element_located( (By.CLASS_NAME,'RR-M-.h5uC0') ))\n",
    "        \n",
    "        # If story is not seen, then height is 210, After viewing story height becomes 208\n",
    "        height = driver.find_element_by_class_name('CfWVH').get_attribute('height')\n",
    "        if int(height)==208:\n",
    "            print(\"Already seen\")\n",
    "        else:\n",
    "            print(\"Viewing the story...\")    \n",
    "            driver.execute_script('arguments[0].click();',story)\n",
    "    except:\n",
    "        print(handle_name,\"has no story\")\n",
    "    \n",
    "check_story('coding.ninjas')"
   ]
  },
  {
   "cell_type": "markdown",
   "metadata": {},
   "source": [
    "### quit session"
   ]
  },
  {
   "cell_type": "code",
   "execution_count": 16,
   "metadata": {},
   "outputs": [],
   "source": [
    "driver.quit()"
   ]
  }
 ],
 "metadata": {
  "kernelspec": {
   "display_name": "Python 3",
   "language": "python",
   "name": "python3"
  },
  "language_info": {
   "codemirror_mode": {
    "name": "ipython",
    "version": 3
   },
   "file_extension": ".py",
   "mimetype": "text/x-python",
   "name": "python",
   "nbconvert_exporter": "python",
   "pygments_lexer": "ipython3",
   "version": "3.7.3"
  }
 },
 "nbformat": 4,
 "nbformat_minor": 2
}
